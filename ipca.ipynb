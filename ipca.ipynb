{
 "cells": [
  {
   "cell_type": "code",
   "execution_count": 1,
   "id": "3e009aa2-7e9f-4814-bc58-99dc0859ceca",
   "metadata": {},
   "outputs": [],
   "source": [
    "import pandas as pd\n",
    "from PIL import Image\n",
    "import numpy as np\n",
    "import matplotlib.pyplot as plt\n",
    "import cv2\n",
    "from sklearn.decomposition import IncrementalPCA"
   ]
  },
  {
   "cell_type": "code",
   "execution_count": 2,
   "id": "757449bb-55b7-4067-a113-e6406844abb3",
   "metadata": {},
   "outputs": [
    {
     "name": "stdout",
     "output_type": "stream",
     "text": [
      "<class 'pandas.core.frame.DataFrame'>\n",
      "RangeIndex: 39588 entries, 0 to 39587\n",
      "Data columns (total 11 columns):\n",
      " #   Column          Non-Null Count  Dtype \n",
      "---  ------          --------------  ----- \n",
      " 0   Unnamed: 0      39588 non-null  int64 \n",
      " 1   id              39588 non-null  object\n",
      " 2   datetime        39588 non-null  object\n",
      " 3   file_name       39588 non-null  object\n",
      " 4   seq_id          39588 non-null  object\n",
      " 5   frame_num       39588 non-null  int64 \n",
      " 6   seq_num_frames  39588 non-null  int64 \n",
      " 7   location        39588 non-null  object\n",
      " 8   category_id     39588 non-null  int64 \n",
      " 9   has_animal      39588 non-null  int64 \n",
      " 10  species         39588 non-null  object\n",
      "dtypes: int64(5), object(6)\n",
      "memory usage: 3.3+ MB\n"
     ]
    }
   ],
   "source": [
    "df=pd.read_csv(\"Orinoquia_Carma_Traps/metadata/balanced_metadata.csv\")\n",
    "df.info()"
   ]
  },
  {
   "cell_type": "code",
   "execution_count": 3,
   "id": "83769d40-9adf-4c65-a4d0-77fe23b3b90a",
   "metadata": {},
   "outputs": [],
   "source": [
    "img_size=(150,150)\n"
   ]
  },
  {
   "cell_type": "code",
   "execution_count": 4,
   "id": "6457ab96-7e0f-46dd-9e16-979c0b4e7e70",
   "metadata": {},
   "outputs": [],
   "source": [
    "# a = np.array([1, 2, 3, 4])\n",
    "# np.savetxt('test1.txt', a, fmt='%d')\n",
    "# b = np.loadtxt('test1.txt', dtype=int)\n",
    "# a == b"
   ]
  },
  {
   "cell_type": "code",
   "execution_count": 5,
   "id": "803bbd57-f6d6-4e1b-ba36-881ed1b258da",
   "metadata": {},
   "outputs": [],
   "source": [
    "image_data = []\n",
    "labels = []\n",
    "# Replace with your own dataframe or image/label loading logic\n",
    "for i in range(len(df)):\n",
    "    if(i%1000==0):\n",
    "        print(i)\n",
    "    img_path = f\"Orinoquia_Carma_Traps/orinoquia_camera_traps_images/public/{df.file_name[i]}\"\n",
    "    img = Image.open(img_path).convert(\"L\")  # Convert to grayscale for simplicity\n",
    "    img_resized = img.resize((150, 150))       # Resize for consistency\n",
    "    img_array = np.array(img_resized).flatten()  # Flatten to 1D vector\n",
    "    image_data.append(img_array)\n",
    "    labels.append(df.has_animal[i])\n",
    "\n",
    "X = np.array(image_data)\n",
    "y = np.array(labels)"
   ]
  },
  {
   "cell_type": "code",
   "execution_count": 6,
   "id": "9b2d2db2-2ca0-408f-9a8b-99cb0fc55c72",
   "metadata": {},
   "outputs": [],
   "source": [
    "#np.savetxt('X.txt', X, fmt='%d')\n",
    "X=np.loadtxt('X.txt', dtype=int)\n",
    "y=np.loadtxt('y.txt', dtype=int)"
   ]
  },
  {
   "cell_type": "code",
   "execution_count": 7,
   "id": "564048c3-30ad-43eb-8828-68da75e1eba8",
   "metadata": {},
   "outputs": [
    {
     "name": "stdout",
     "output_type": "stream",
     "text": [
      "395\n"
     ]
    }
   ],
   "source": [
    "n=int(len(X)/100)\n",
    "print(n)"
   ]
  },
  {
   "cell_type": "code",
   "execution_count": 8,
   "id": "ef6d9adf-f27d-44d8-9c02-c0b01c6cb8fa",
   "metadata": {},
   "outputs": [
    {
     "data": {
      "text/plain": [
       "(39588, 22500)"
      ]
     },
     "execution_count": 8,
     "metadata": {},
     "output_type": "execute_result"
    }
   ],
   "source": [
    "np.shape(X)"
   ]
  },
  {
   "cell_type": "code",
   "execution_count": 9,
   "id": "fad75279-42cc-483c-b06c-0f53ebb41a92",
   "metadata": {},
   "outputs": [],
   "source": [
    "\n",
    "\n",
    "#ipca.fit(X)"
   ]
  },
  {
   "cell_type": "code",
   "execution_count": 11,
   "id": "49687c78-b4ef-4cde-bac9-31cc247185ca",
   "metadata": {},
   "outputs": [
    {
     "name": "stdout",
     "output_type": "stream",
     "text": [
      "79.176\n",
      "0\n",
      "10\n",
      "20\n",
      "30\n",
      "40\n",
      "50\n",
      "60\n",
      "70\n"
     ]
    }
   ],
   "source": [
    "j=0\n",
    "batch_size=500\n",
    "print(X.shape[0]/batch_size)\n",
    "ipca=IncrementalPCA(n_components=100, batch_size=batch_size)\n",
    "for i in range(0, X.shape[0], batch_size):  # batch size = 50\n",
    "    if(j%10==0):\n",
    "        print(j)\n",
    "    batch = X[i:i+batch_size, :]  # preserve (50, 22500) shape\n",
    "    ipca.partial_fit(batch)\n",
    "    j=j+1"
   ]
  },
  {
   "cell_type": "code",
   "execution_count": 12,
   "id": "51c424c6-5ff2-475f-bf0e-225a07b5c32f",
   "metadata": {},
   "outputs": [
    {
     "data": {
      "text/plain": [
       "[<matplotlib.lines.Line2D at 0x1b3009b40d0>]"
      ]
     },
     "execution_count": 12,
     "metadata": {},
     "output_type": "execute_result"
    },
    {
     "data": {
      "image/png": "[encoded data removed]",
      "text/plain": [
       "<Figure size 640x480 with 1 Axes>"
      ]
     },
     "metadata": {},
     "output_type": "display_data"
    }
   ],
   "source": [
    "plt.ylabel(\"Eigenvalues\")\n",
    "plt.xlabel(\"# of Eigenvalues\")\n",
    "plt.plot(ipca.explained_variance_)"
   ]
  },
  {
   "cell_type": "code",
   "execution_count": 13,
   "id": "55577538-ff61-4dbe-be7f-b4ea89ff6c85",
   "metadata": {},
   "outputs": [
    {
     "name": "stdout",
     "output_type": "stream",
     "text": [
      "79.176\n",
      "0\n",
      "10\n",
      "20\n",
      "30\n",
      "40\n",
      "50\n",
      "60\n",
      "70\n"
     ]
    }
   ],
   "source": [
    "#it looks like 20 is a good amount of Principle components\n",
    "j=0\n",
    "batch_size=500\n",
    "print(X.shape[0]/batch_size)\n",
    "ipca=IncrementalPCA(n_components=20, batch_size=batch_size)\n",
    "for i in range(0, X.shape[0], batch_size):  # batch size = 50\n",
    "    if(j%10==0):\n",
    "        print(j)\n",
    "    batch = X[i:i+batch_size, :]  # preserve (50, 22500) shape\n",
    "    ipca.partial_fit(batch)\n",
    "    j=j+1"
   ]
  },
  {
   "cell_type": "code",
   "execution_count": 15,
   "id": "c2708a12-8af7-40a8-8dfb-899f1f8377aa",
   "metadata": {},
   "outputs": [
    {
     "data": {
      "text/plain": [
       "(20, 22500)"
      ]
     },
     "execution_count": 15,
     "metadata": {},
     "output_type": "execute_result"
    }
   ],
   "source": [
    "np.shape(ipca.components_)"
   ]
  },
  {
   "cell_type": "code",
   "execution_count": 22,
   "id": "baab4713-1364-4ae0-b7bb-05fb8d36b90c",
   "metadata": {},
   "outputs": [],
   "source": [
    "X_ipca=ipca.transform(X)"
   ]
  },
  {
   "cell_type": "code",
   "execution_count": 23,
   "id": "3446bede-2150-4f71-a72f-b0bc8f4c88ab",
   "metadata": {},
   "outputs": [
    {
     "name": "stdout",
     "output_type": "stream",
     "text": [
      "(39588, 20)\n",
      "(39588,)\n"
     ]
    }
   ],
   "source": [
    "print(np.shape(X_ipca))\n",
    "print(np.shape(y))"
   ]
  },
  {
   "cell_type": "code",
   "execution_count": null,
   "id": "0699b24f-3f85-4ba6-acaa-d1d0931e54f8",
   "metadata": {},
   "outputs": [],
   "source": []
  }
 ],
 "metadata": {
  "kernelspec": {
   "display_name": "Python 3 (ipykernel)",
   "language": "python",
   "name": "python3"
  },
  "language_info": {
   "codemirror_mode": {
    "name": "ipython",
    "version": 3
   },
   "file_extension": ".py",
   "mimetype": "text/x-python",
   "name": "python",
   "nbconvert_exporter": "python",
   "pygments_lexer": "ipython3",
   "version": "3.11.1"
  }
 },
 "nbformat": 4,
 "nbformat_minor": 5
}
